{
 "cells": [
  {
   "cell_type": "code",
   "execution_count": 6,
   "id": "164682db-859d-49aa-807a-47534b6271ac",
   "metadata": {},
   "outputs": [],
   "source": [
    "def Subfields():\n",
    "    print(\"Sub-fields in AI are:\")\n",
    "    ai=[\"Machine Learing\",\"Neural Networks\",\"Vision\",\"Robotics\",\"Speech Processing\",\"Natural Language processing\"]\n",
    "    for i in ai:\n",
    "        print(i)\n",
    "        \n",
    "        \n",
    "        \n",
    "    "
   ]
  },
  {
   "cell_type": "code",
   "execution_count": 7,
   "id": "e2f68ad2-cd43-4f0c-b3de-3ace26d6a5cf",
   "metadata": {},
   "outputs": [
    {
     "name": "stdout",
     "output_type": "stream",
     "text": [
      "Sub-fields in AI are:\n",
      "Machine Learing\n",
      "Neural Networks\n",
      "Vision\n",
      "Robotics\n",
      "Speech Processing\n",
      "Natural Language processing\n"
     ]
    }
   ],
   "source": [
    "Subfields()"
   ]
  },
  {
   "cell_type": "code",
   "execution_count": 16,
   "id": "23af23cb-d2d3-4f35-abc2-2205b31c95eb",
   "metadata": {},
   "outputs": [],
   "source": [
    "def OddEven():\n",
    "    num=int(input(\"Enter a number:\"))\n",
    "    if num%2==0:\n",
    "        print(num,\"is Even number\")\n",
    "        number=\"even number\"\n",
    "    else:\n",
    "        print(num,\"is odd number\")\n",
    "        number=\"odd number\"\n",
    "        return number\n",
    "        \n",
    "        \n",
    "        \n",
    "        \n",
    "        \n",
    "        "
   ]
  },
  {
   "cell_type": "code",
   "execution_count": 18,
   "id": "bc4f4fa9-32a3-49b9-8f74-780a384ffacd",
   "metadata": {},
   "outputs": [
    {
     "name": "stdin",
     "output_type": "stream",
     "text": [
      "Enter a number: 1111\n"
     ]
    },
    {
     "name": "stdout",
     "output_type": "stream",
     "text": [
      "1111 is odd number\n"
     ]
    },
    {
     "data": {
      "text/plain": [
       "'odd number'"
      ]
     },
     "execution_count": 18,
     "metadata": {},
     "output_type": "execute_result"
    }
   ],
   "source": [
    "OddEven()\n",
    "\n"
   ]
  },
  {
   "cell_type": "code",
   "execution_count": 33,
   "id": "5e3f57ec-5cc1-4faa-94c0-0d662bcc0dbf",
   "metadata": {},
   "outputs": [],
   "source": [
    "def Elegible():\n",
    "    gender=input(\"Your Gender:\")\n",
    "    age=int(input(\"Your Age:\"))\n",
    "    if (gender in (\"male\",\"m\")):\n",
    "        if (age>=21):\n",
    "            print(\" male Elegilbe\")\n",
    "        else:\n",
    "            print(\"not elegilble\")\n",
    "    elif(gender in(\"female\",\"f\")):\n",
    "         if(age>=18):\n",
    "             print(\" female Elegilbe\")\n",
    "         else:\n",
    "              print(\"not elegilble\")\n",
    "\n",
    "    \n",
    "\n",
    "    \n",
    "\n",
    "\n",
    "\n",
    "\n",
    "    \n",
    "        "
   ]
  },
  {
   "cell_type": "code",
   "execution_count": 35,
   "id": "0f723664-a419-46bf-a1e6-5e90fde083da",
   "metadata": {},
   "outputs": [
    {
     "name": "stdin",
     "output_type": "stream",
     "text": [
      "Your Gender: f\n",
      "Your Age: 14\n"
     ]
    },
    {
     "name": "stdout",
     "output_type": "stream",
     "text": [
      "not elegilble\n"
     ]
    }
   ],
   "source": [
    "Elegible()\n"
   ]
  },
  {
   "cell_type": "code",
   "execution_count": 12,
   "id": "a3502a56-86c1-4012-b6c5-085c95153704",
   "metadata": {},
   "outputs": [],
   "source": [
    "def percentage():\n",
    "    m1=int(input(\"Subject1=\"))\n",
    "    m2=int(input(\"Subject2=\"))\n",
    "    m3=int(input(\"Subject3=\"))\n",
    "    m4=int(input(\"Subject4=\"))\n",
    "    m5=int(input(\"Subject5=\"))\n",
    "    Total=(m1+m2+m3+m4+m5)\n",
    "    print(\"Total:\",Total)\n",
    "    mark=\"Total\"\n",
    "    percentage=(Total/5)\n",
    "    print(\"percentage:\",percentage)\n",
    "    mark=\"percentage\"\n",
    "    return mark\n",
    "    \n",
    "    \n",
    "    \n",
    "    \n",
    "\n",
    "\n",
    "    \n",
    "    "
   ]
  },
  {
   "cell_type": "code",
   "execution_count": 13,
   "id": "9201b9f4-50bc-4345-b477-52877b867f66",
   "metadata": {},
   "outputs": [
    {
     "name": "stdin",
     "output_type": "stream",
     "text": [
      "Subject1= 98\n",
      "Subject2= 87\n",
      "Subject3= 87\n",
      "Subject4= 87\n",
      "Subject5= 98\n"
     ]
    },
    {
     "name": "stdout",
     "output_type": "stream",
     "text": [
      "Total: 457\n",
      "percentage: 91.4\n"
     ]
    },
    {
     "data": {
      "text/plain": [
       "'percentage'"
      ]
     },
     "execution_count": 13,
     "metadata": {},
     "output_type": "execute_result"
    }
   ],
   "source": [
    "percentage()"
   ]
  },
  {
   "cell_type": "code",
   "execution_count": 10,
   "id": "75779d09-8b30-45f3-8882-876a7c3372c0",
   "metadata": {},
   "outputs": [],
   "source": [
    "def triangle():\n",
    "    H=int(input(\"Height:\"))\n",
    "    B=int(input(\"Breadth:\"))\n",
    "    area=(H*B)/2\n",
    "    print(\"Area of formula:(Height*Breadth)/2\")\n",
    "    print(\"Area of Triangle:\",area)\n",
    "    H1=int(input(\"Height1:\"))\n",
    "    H2=int(input(\"Height2:\"))\n",
    "    B1=int(input(\"Breadth1:\"))\n",
    "    perimeter=(H1+H2+B1)\n",
    "    print(\"perimeter of formula:Height1+Height2+Breadth1\")\n",
    "    print(\"perimeter of Triangle:\",perimeter)\n",
    "    \n",
    "    "
   ]
  },
  {
   "cell_type": "code",
   "execution_count": 9,
   "id": "207bc7ff-9595-40ce-a320-adef40392659",
   "metadata": {},
   "outputs": [
    {
     "name": "stdin",
     "output_type": "stream",
     "text": [
      "Height: 32\n",
      "Breadth: 34\n"
     ]
    },
    {
     "name": "stdout",
     "output_type": "stream",
     "text": [
      "Area of formula:(Height*Breadth)/2\n",
      "Area of Triangle: 544.0\n"
     ]
    },
    {
     "name": "stdin",
     "output_type": "stream",
     "text": [
      "Height1: 4\n",
      "Height2: 4\n",
      "Breadth1: 2\n"
     ]
    },
    {
     "name": "stdout",
     "output_type": "stream",
     "text": [
      " perimeter of formula:Height1+Height2+Breadth1\n",
      "perimeter of Triangle: 10\n"
     ]
    }
   ],
   "source": [
    "triangle()"
   ]
  },
  {
   "cell_type": "code",
   "execution_count": null,
   "id": "2a79d197-52b9-4ab1-b968-35ef08e7bdbe",
   "metadata": {},
   "outputs": [],
   "source": []
  }
 ],
 "metadata": {
  "kernelspec": {
   "display_name": "Python 3 (ipykernel)",
   "language": "python",
   "name": "python3"
  },
  "language_info": {
   "codemirror_mode": {
    "name": "ipython",
    "version": 3
   },
   "file_extension": ".py",
   "mimetype": "text/x-python",
   "name": "python",
   "nbconvert_exporter": "python",
   "pygments_lexer": "ipython3",
   "version": "3.12.4"
  }
 },
 "nbformat": 4,
 "nbformat_minor": 5
}
